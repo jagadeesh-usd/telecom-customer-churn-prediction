{
 "cells": [
  {
   "cell_type": "markdown",
   "metadata": {},
   "source": [
    "#### **Import necessary libraries**"
   ]
  },
  {
   "cell_type": "code",
   "execution_count": 1,
   "metadata": {},
   "outputs": [],
   "source": [
    "import numpy as np\n",
    "import pandas as pd\n",
    "import matplotlib.pyplot as plt\n",
    "import seaborn as sns\n",
    "from sklearn.tree import export_text\n",
    "\n",
    "import joblib\n"
   ]
  },
  {
   "cell_type": "markdown",
   "metadata": {},
   "source": [
    "#### **Load the model**"
   ]
  },
  {
   "cell_type": "code",
   "execution_count": 2,
   "metadata": {},
   "outputs": [],
   "source": [
    "file_path = \"../resources/data/output/customer_churn_prepared.csv\"   \n",
    "df = pd.read_csv(file_path)"
   ]
  },
  {
   "cell_type": "code",
   "execution_count": 3,
   "metadata": {},
   "outputs": [
    {
     "data": {
      "text/html": [
       "<div>\n",
       "<style scoped>\n",
       "    .dataframe tbody tr th:only-of-type {\n",
       "        vertical-align: middle;\n",
       "    }\n",
       "\n",
       "    .dataframe tbody tr th {\n",
       "        vertical-align: top;\n",
       "    }\n",
       "\n",
       "    .dataframe thead th {\n",
       "        text-align: right;\n",
       "    }\n",
       "</style>\n",
       "<table border=\"1\" class=\"dataframe\">\n",
       "  <thead>\n",
       "    <tr style=\"text-align: right;\">\n",
       "      <th></th>\n",
       "      <th>call_failure</th>\n",
       "      <th>complains</th>\n",
       "      <th>subscription_length</th>\n",
       "      <th>charge_amount</th>\n",
       "      <th>seconds_of_use</th>\n",
       "      <th>frequency_of_SMS</th>\n",
       "      <th>distinct_called_numbers</th>\n",
       "      <th>age_group</th>\n",
       "      <th>tariff_plan</th>\n",
       "      <th>status</th>\n",
       "      <th>customer_value</th>\n",
       "      <th>churn</th>\n",
       "    </tr>\n",
       "  </thead>\n",
       "  <tbody>\n",
       "    <tr>\n",
       "      <th>0</th>\n",
       "      <td>8</td>\n",
       "      <td>0</td>\n",
       "      <td>38</td>\n",
       "      <td>0</td>\n",
       "      <td>4370</td>\n",
       "      <td>5</td>\n",
       "      <td>17</td>\n",
       "      <td>3</td>\n",
       "      <td>1</td>\n",
       "      <td>1</td>\n",
       "      <td>197.640</td>\n",
       "      <td>0</td>\n",
       "    </tr>\n",
       "    <tr>\n",
       "      <th>1</th>\n",
       "      <td>0</td>\n",
       "      <td>0</td>\n",
       "      <td>39</td>\n",
       "      <td>0</td>\n",
       "      <td>318</td>\n",
       "      <td>7</td>\n",
       "      <td>4</td>\n",
       "      <td>2</td>\n",
       "      <td>1</td>\n",
       "      <td>2</td>\n",
       "      <td>46.035</td>\n",
       "      <td>0</td>\n",
       "    </tr>\n",
       "    <tr>\n",
       "      <th>2</th>\n",
       "      <td>10</td>\n",
       "      <td>0</td>\n",
       "      <td>37</td>\n",
       "      <td>0</td>\n",
       "      <td>2453</td>\n",
       "      <td>359</td>\n",
       "      <td>24</td>\n",
       "      <td>3</td>\n",
       "      <td>1</td>\n",
       "      <td>1</td>\n",
       "      <td>1536.520</td>\n",
       "      <td>0</td>\n",
       "    </tr>\n",
       "    <tr>\n",
       "      <th>3</th>\n",
       "      <td>10</td>\n",
       "      <td>0</td>\n",
       "      <td>38</td>\n",
       "      <td>0</td>\n",
       "      <td>4198</td>\n",
       "      <td>1</td>\n",
       "      <td>35</td>\n",
       "      <td>1</td>\n",
       "      <td>1</td>\n",
       "      <td>1</td>\n",
       "      <td>240.020</td>\n",
       "      <td>0</td>\n",
       "    </tr>\n",
       "    <tr>\n",
       "      <th>4</th>\n",
       "      <td>3</td>\n",
       "      <td>0</td>\n",
       "      <td>38</td>\n",
       "      <td>0</td>\n",
       "      <td>2393</td>\n",
       "      <td>2</td>\n",
       "      <td>33</td>\n",
       "      <td>1</td>\n",
       "      <td>1</td>\n",
       "      <td>1</td>\n",
       "      <td>145.805</td>\n",
       "      <td>0</td>\n",
       "    </tr>\n",
       "  </tbody>\n",
       "</table>\n",
       "</div>"
      ],
      "text/plain": [
       "   call_failure  complains  subscription_length  charge_amount  \\\n",
       "0             8          0                   38              0   \n",
       "1             0          0                   39              0   \n",
       "2            10          0                   37              0   \n",
       "3            10          0                   38              0   \n",
       "4             3          0                   38              0   \n",
       "\n",
       "   seconds_of_use  frequency_of_SMS  distinct_called_numbers  age_group  \\\n",
       "0            4370                 5                       17          3   \n",
       "1             318                 7                        4          2   \n",
       "2            2453               359                       24          3   \n",
       "3            4198                 1                       35          1   \n",
       "4            2393                 2                       33          1   \n",
       "\n",
       "   tariff_plan  status  customer_value  churn  \n",
       "0            1       1         197.640      0  \n",
       "1            1       2          46.035      0  \n",
       "2            1       1        1536.520      0  \n",
       "3            1       1         240.020      0  \n",
       "4            1       1         145.805      0  "
      ]
     },
     "execution_count": 3,
     "metadata": {},
     "output_type": "execute_result"
    }
   ],
   "source": [
    "df.head()"
   ]
  },
  {
   "cell_type": "code",
   "execution_count": 4,
   "metadata": {},
   "outputs": [],
   "source": [
    "X = df.drop(columns=[\"customer_value\", \"churn\"])"
   ]
  },
  {
   "cell_type": "markdown",
   "metadata": {},
   "source": [
    "#### **Load Decision Regression pipeline**"
   ]
  },
  {
   "cell_type": "code",
   "execution_count": 5,
   "metadata": {},
   "outputs": [],
   "source": [
    "model_path = '../resources/models/Decision_tree_regression_model_final.pkl'\n",
    "loaded_pipeline = joblib.load(model_path)"
   ]
  },
  {
   "cell_type": "code",
   "execution_count": 6,
   "metadata": {},
   "outputs": [],
   "source": [
    "# Extract the preprocessor and decision tree regressor from the pipeline\n",
    "preprocessor = loaded_pipeline.named_steps['preprocessor']\n",
    "decision_tree = loaded_pipeline.named_steps['dt']"
   ]
  },
  {
   "cell_type": "code",
   "execution_count": 7,
   "metadata": {},
   "outputs": [
    {
     "data": {
      "text/plain": [
       "array(['num__call_failure', 'num__complains', 'num__seconds_of_use',\n",
       "       'num__frequency_of_SMS', 'num__distinct_called_numbers',\n",
       "       'num__charge_amount', 'num__subscription_length',\n",
       "       'cat__tariff_plan_2', 'cat__age_group_2', 'cat__age_group_3',\n",
       "       'cat__age_group_4', 'cat__age_group_5', 'cat__status_2'],\n",
       "      dtype=object)"
      ]
     },
     "execution_count": 7,
     "metadata": {},
     "output_type": "execute_result"
    }
   ],
   "source": [
    "# Retrieve the output feature names from the preprocessor.\n",
    "# This method returns an array of the names of all transformed features.\n",
    "feature_names = preprocessor.get_feature_names_out()\n",
    "\n",
    "# Display or use the feature names as required.\n",
    "feature_names\n"
   ]
  },
  {
   "cell_type": "markdown",
   "metadata": {},
   "source": [
    "#### **Feature Importance Extraction**"
   ]
  },
  {
   "cell_type": "code",
   "execution_count": 8,
   "metadata": {},
   "outputs": [
    {
     "name": "stdout",
     "output_type": "stream",
     "text": [
      "Feature Importances:\n",
      "                         Feature  Importance\n",
      "3          num__frequency_of_SMS    0.663858\n",
      "2            num__seconds_of_use    0.299373\n",
      "11              cat__age_group_5    0.013366\n",
      "10              cat__age_group_4    0.009707\n",
      "4   num__distinct_called_numbers    0.009205\n",
      "9               cat__age_group_3    0.001293\n",
      "0              num__call_failure    0.001209\n",
      "8               cat__age_group_2    0.000867\n",
      "6       num__subscription_length    0.000536\n",
      "5             num__charge_amount    0.000385\n",
      "7             cat__tariff_plan_2    0.000183\n",
      "12                 cat__status_2    0.000016\n",
      "1                 num__complains    0.000003\n"
     ]
    }
   ],
   "source": [
    "importances = decision_tree.feature_importances_\n",
    "\n",
    "feature_importance_df = pd.DataFrame({\n",
    "    'Feature': feature_names,\n",
    "    'Importance': importances\n",
    "})\n",
    "\n",
    "# Sort the DataFrame by the 'Importance' column in descending order\n",
    "feature_importance_df = feature_importance_df.sort_values(by='Importance', ascending=False)\n",
    "\n",
    "# Print the feature importances\n",
    "print(\"Feature Importances:\")\n",
    "print(feature_importance_df)\n"
   ]
  },
  {
   "cell_type": "markdown",
   "metadata": {},
   "source": [
    "- Most Important Features:\n",
    "    - Frequency of SMS (66.4% importance)\n",
    "    - Seconds of use (29.9% importance)\n",
    "    These two usage metrics account for over 96% of the model's predictive power\n",
    "- Moderately Important Features:\n",
    "    - Age group 5 (1.3%)\n",
    "    - Age group 4 (1.0%)\n",
    "    - Distinct called numbers (0.9%)\n",
    "- Minimal Impact Features:\n",
    "    - Call failures, complaints, subscription length, and charge amount all have less than 0.1% importance\n",
    "    - Status and tariff plan have negligible impact\n",
    "\n",
    "This suggests that usage patterns, particularly SMS frequency, are the strongest predictors of Customer Lifetime Value."
   ]
  },
  {
   "cell_type": "code",
   "execution_count": 18,
   "metadata": {},
   "outputs": [],
   "source": [
    "# Extract rules from the decision tree as text\n",
    "# tree_rules = export_text(decision_tree, feature_names=list(feature_names))\n",
    "# print(\"\\nDecision Tree Rules:\")\n",
    "# print(tree_rules)"
   ]
  }
 ],
 "metadata": {
  "kernelspec": {
   "display_name": "venv",
   "language": "python",
   "name": "python3"
  },
  "language_info": {
   "codemirror_mode": {
    "name": "ipython",
    "version": 3
   },
   "file_extension": ".py",
   "mimetype": "text/x-python",
   "name": "python",
   "nbconvert_exporter": "python",
   "pygments_lexer": "ipython3",
   "version": "3.12.2"
  }
 },
 "nbformat": 4,
 "nbformat_minor": 2
}
