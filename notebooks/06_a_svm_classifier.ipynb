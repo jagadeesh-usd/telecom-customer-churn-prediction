{
 "cells": [
  {
   "cell_type": "markdown",
   "metadata": {},
   "source": [
    "#### **Import necessary libraries**"
   ]
  },
  {
   "cell_type": "code",
   "execution_count": 148,
   "metadata": {},
   "outputs": [],
   "source": [
    "import pandas as pd\n",
    "import numpy as np\n",
    "from sklearn.model_selection import train_test_split\n",
    "from sklearn.preprocessing import StandardScaler, OneHotEncoder\n",
    "from sklearn.compose import ColumnTransformer\n",
    "from imblearn.pipeline import Pipeline as ImbPipeline\n",
    "from imblearn.over_sampling import SMOTE\n",
    "from sklearn.svm import SVC\n",
    "from sklearn.metrics import classification_report, roc_auc_score, roc_curve\n",
    "import shap\n",
    "import matplotlib.pyplot as plt\n",
    "import seaborn as sns\n",
    "import joblib"
   ]
  },
  {
   "cell_type": "markdown",
   "metadata": {},
   "source": [
    "#### **Load data**"
   ]
  },
  {
   "cell_type": "code",
   "execution_count": 149,
   "metadata": {},
   "outputs": [],
   "source": [
    "file_path = \"../resources/data/output/customer_churn_prepared.csv\"\n",
    "df = pd.read_csv(file_path)"
   ]
  },
  {
   "cell_type": "code",
   "execution_count": 150,
   "metadata": {},
   "outputs": [
    {
     "data": {
      "text/html": [
       "<div>\n",
       "<style scoped>\n",
       "    .dataframe tbody tr th:only-of-type {\n",
       "        vertical-align: middle;\n",
       "    }\n",
       "\n",
       "    .dataframe tbody tr th {\n",
       "        vertical-align: top;\n",
       "    }\n",
       "\n",
       "    .dataframe thead th {\n",
       "        text-align: right;\n",
       "    }\n",
       "</style>\n",
       "<table border=\"1\" class=\"dataframe\">\n",
       "  <thead>\n",
       "    <tr style=\"text-align: right;\">\n",
       "      <th></th>\n",
       "      <th>call_failure</th>\n",
       "      <th>complains</th>\n",
       "      <th>subscription_length</th>\n",
       "      <th>charge_amount</th>\n",
       "      <th>seconds_of_use</th>\n",
       "      <th>frequency_of_SMS</th>\n",
       "      <th>distinct_called_numbers</th>\n",
       "      <th>age_group</th>\n",
       "      <th>tariff_plan</th>\n",
       "      <th>status</th>\n",
       "      <th>customer_value</th>\n",
       "      <th>churn</th>\n",
       "    </tr>\n",
       "  </thead>\n",
       "  <tbody>\n",
       "    <tr>\n",
       "      <th>0</th>\n",
       "      <td>8</td>\n",
       "      <td>0</td>\n",
       "      <td>38</td>\n",
       "      <td>0</td>\n",
       "      <td>4370</td>\n",
       "      <td>5</td>\n",
       "      <td>17</td>\n",
       "      <td>3</td>\n",
       "      <td>1</td>\n",
       "      <td>1</td>\n",
       "      <td>197.640</td>\n",
       "      <td>0</td>\n",
       "    </tr>\n",
       "    <tr>\n",
       "      <th>1</th>\n",
       "      <td>0</td>\n",
       "      <td>0</td>\n",
       "      <td>39</td>\n",
       "      <td>0</td>\n",
       "      <td>318</td>\n",
       "      <td>7</td>\n",
       "      <td>4</td>\n",
       "      <td>2</td>\n",
       "      <td>1</td>\n",
       "      <td>2</td>\n",
       "      <td>46.035</td>\n",
       "      <td>0</td>\n",
       "    </tr>\n",
       "    <tr>\n",
       "      <th>2</th>\n",
       "      <td>10</td>\n",
       "      <td>0</td>\n",
       "      <td>37</td>\n",
       "      <td>0</td>\n",
       "      <td>2453</td>\n",
       "      <td>359</td>\n",
       "      <td>24</td>\n",
       "      <td>3</td>\n",
       "      <td>1</td>\n",
       "      <td>1</td>\n",
       "      <td>1536.520</td>\n",
       "      <td>0</td>\n",
       "    </tr>\n",
       "    <tr>\n",
       "      <th>3</th>\n",
       "      <td>10</td>\n",
       "      <td>0</td>\n",
       "      <td>38</td>\n",
       "      <td>0</td>\n",
       "      <td>4198</td>\n",
       "      <td>1</td>\n",
       "      <td>35</td>\n",
       "      <td>1</td>\n",
       "      <td>1</td>\n",
       "      <td>1</td>\n",
       "      <td>240.020</td>\n",
       "      <td>0</td>\n",
       "    </tr>\n",
       "    <tr>\n",
       "      <th>4</th>\n",
       "      <td>3</td>\n",
       "      <td>0</td>\n",
       "      <td>38</td>\n",
       "      <td>0</td>\n",
       "      <td>2393</td>\n",
       "      <td>2</td>\n",
       "      <td>33</td>\n",
       "      <td>1</td>\n",
       "      <td>1</td>\n",
       "      <td>1</td>\n",
       "      <td>145.805</td>\n",
       "      <td>0</td>\n",
       "    </tr>\n",
       "  </tbody>\n",
       "</table>\n",
       "</div>"
      ],
      "text/plain": [
       "   call_failure  complains  subscription_length  charge_amount  \\\n",
       "0             8          0                   38              0   \n",
       "1             0          0                   39              0   \n",
       "2            10          0                   37              0   \n",
       "3            10          0                   38              0   \n",
       "4             3          0                   38              0   \n",
       "\n",
       "   seconds_of_use  frequency_of_SMS  distinct_called_numbers  age_group  \\\n",
       "0            4370                 5                       17          3   \n",
       "1             318                 7                        4          2   \n",
       "2            2453               359                       24          3   \n",
       "3            4198                 1                       35          1   \n",
       "4            2393                 2                       33          1   \n",
       "\n",
       "   tariff_plan  status  customer_value  churn  \n",
       "0            1       1         197.640      0  \n",
       "1            1       2          46.035      0  \n",
       "2            1       1        1536.520      0  \n",
       "3            1       1         240.020      0  \n",
       "4            1       1         145.805      0  "
      ]
     },
     "execution_count": 150,
     "metadata": {},
     "output_type": "execute_result"
    }
   ],
   "source": [
    "\n",
    "# Display the first few rows of the dataset\n",
    "df.head()"
   ]
  },
  {
   "cell_type": "markdown",
   "metadata": {},
   "source": [
    "#### **Input and Target Features**"
   ]
  },
  {
   "cell_type": "code",
   "execution_count": 151,
   "metadata": {},
   "outputs": [],
   "source": [
    "X = df.drop(columns=[\"churn\"])"
   ]
  },
  {
   "cell_type": "code",
   "execution_count": 152,
   "metadata": {},
   "outputs": [],
   "source": [
    "y = df[\"churn\"]"
   ]
  },
  {
   "cell_type": "markdown",
   "metadata": {},
   "source": [
    "#### **Numeric and Categorical features**"
   ]
  },
  {
   "cell_type": "code",
   "execution_count": 153,
   "metadata": {},
   "outputs": [],
   "source": [
    "numeric_features = [\n",
    "    \"call_failure\",\n",
    "    \"subscription_length\",\n",
    "    \"complains\",\n",
    "    \"seconds_of_use\",\n",
    "    \"frequency_of_SMS\",\n",
    "    \"distinct_called_numbers\",\n",
    "    \"charge_amount\",\n",
    "    \"customer_value\"\n",
    "]\n",
    "categorical_features = [\"status\", \"tariff_plan\", \"age_group\"]"
   ]
  },
  {
   "cell_type": "markdown",
   "metadata": {},
   "source": [
    "#### **Functions**"
   ]
  },
  {
   "cell_type": "code",
   "execution_count": 154,
   "metadata": {},
   "outputs": [],
   "source": [
    "# Plot ROC AUC curve\n",
    "def plot_roc_auc(y_test, y_prob, label):\n",
    "    fpr, tpr, _ = roc_curve(y_test, y_prob)\n",
    "    plt.figure(figsize=(10, 6))\n",
    "    plt.plot(fpr, tpr, label=f'{label} (AUC = {roc_auc_score(y_test, y_prob):.2f})')\n",
    "    plt.plot([0, 1], [0, 1], 'k--')\n",
    "    plt.xlabel('False Positive Rate')\n",
    "    plt.ylabel('True Positive Rate')\n",
    "    plt.title('ROC AUC Curve')\n",
    "    plt.legend(loc='lower right')\n",
    "    plt.show()"
   ]
  },
  {
   "cell_type": "code",
   "execution_count": 155,
   "metadata": {},
   "outputs": [],
   "source": [
    "def train_svm(X, y, num_f, cat_f, kernel='linear', degree=3, label=\"Model\"):\n",
    "    # 1. Train/Test Split\n",
    "    X_train, X_test, y_train, y_test = train_test_split(\n",
    "        X, y, test_size=0.2, stratify=y, random_state=42\n",
    "    )\n",
    "\n",
    "    # 2. Preprocessor\n",
    "    preprocessor = ColumnTransformer([\n",
    "        (\"num\", StandardScaler(), num_f),\n",
    "        (\"cat\", OneHotEncoder(drop=\"first\", sparse_output=False, handle_unknown='ignore'), cat_f)\n",
    "    ])\n",
    "\n",
    "    # 3. Full Pipeline with SMOTE\n",
    "    pipeline = ImbPipeline([\n",
    "        (\"preprocessor\", preprocessor),\n",
    "        (\"smote\", SMOTE(random_state=42)),\n",
    "        (\"classifier\", SVC(kernel=kernel, degree=degree, probability=True, random_state=42))\n",
    "    ])\n",
    "\n",
    "    # 4. Train\n",
    "    pipeline.fit(X_train, y_train)\n",
    "\n",
    "    # 5. Predict\n",
    "    y_pred = pipeline.predict(X_test)\n",
    "    y_prob = pipeline.predict_proba(X_test)[:, 1]\n",
    "\n",
    "    # 6. Evaluation\n",
    "    print(f\"\\nClassification Report ({label} + SMOTE):\")\n",
    "    print(classification_report(y_test, y_pred))\n",
    "    print(f\"AUC Score: {roc_auc_score(y_test, y_prob):.4f}\")\n",
    "\n",
    "    return pipeline, y_test, y_prob"
   ]
  },
  {
   "cell_type": "markdown",
   "metadata": {},
   "source": [
    "#### **Base Model with Linear Kernel**"
   ]
  },
  {
   "cell_type": "code",
   "execution_count": 156,
   "metadata": {},
   "outputs": [
    {
     "name": "stdout",
     "output_type": "stream",
     "text": [
      "\n",
      "Classification Report (SVM Linear + SMOTE):\n",
      "              precision    recall  f1-score   support\n",
      "\n",
      "           0       0.96      0.85      0.90       473\n",
      "           1       0.47      0.80      0.60        80\n",
      "\n",
      "    accuracy                           0.84       553\n",
      "   macro avg       0.72      0.82      0.75       553\n",
      "weighted avg       0.89      0.84      0.86       553\n",
      "\n",
      "AUC Score: 0.9262\n"
     ]
    }
   ],
   "source": [
    "# Train SVM model for 'linear'\n",
    "pipeline, y_test_l, y_prob_l = train_svm(\n",
    "    X,\n",
    "    y,\n",
    "    numeric_features,\n",
    "    categorical_features,\n",
    "    kernel='linear',\n",
    "    degree=1,\n",
    "    label=\"SVM Linear\"\n",
    ")"
   ]
  },
  {
   "cell_type": "markdown",
   "metadata": {},
   "source": [
    "- For Non-Churned Customers (0):\n",
    "    - High precision (0.96): Very reliable when predicting customers will stay.\n",
    "    - Good recall (0.85): Captures most non-churning customers.\n",
    "- For Churned Customers (1):\n",
    "    - Lower precision (0.47): Some false positives when predicting churn.\n",
    "    - Strong recall (0.80): Successfully identifies most churners.\n",
    "\n",
    "The high AUC score of 0.9262 indicates excellent model discrimination ability."
   ]
  },
  {
   "cell_type": "code",
   "execution_count": 157,
   "metadata": {},
   "outputs": [
    {
     "data": {
      "image/png": "[encoded data removed]",
      "text/plain": [
       "<Figure size 1000x600 with 1 Axes>"
      ]
     },
     "metadata": {},
     "output_type": "display_data"
    }
   ],
   "source": [
    "# Plot ROC AUC curve\n",
    "plot_roc_auc(y_test_l, y_prob_l, label=\"SVM poly degree 2\")"
   ]
  },
  {
   "cell_type": "markdown",
   "metadata": {},
   "source": [
    "The ROC (Receiver Operating Characteristic) curve shows excellent model performance:\n",
    "\n",
    "- High AUC score of 0.93, indicating strong discrimination ability between churned and non-churned customers\n",
    "- Curve rises sharply at low false positive rates, showing the model can identify many true churners with minimal false alarms\n",
    "- Significant separation from the diagonal dashed line, confirming the model's predictive power"
   ]
  },
  {
   "cell_type": "markdown",
   "metadata": {},
   "source": [
    "#### **Base Model with with poly Kernel and degree=2**"
   ]
  },
  {
   "cell_type": "code",
   "execution_count": 158,
   "metadata": {},
   "outputs": [
    {
     "name": "stdout",
     "output_type": "stream",
     "text": [
      "\n",
      "Classification Report (SVM poly degree=2 + SMOTE):\n",
      "              precision    recall  f1-score   support\n",
      "\n",
      "           0       0.98      0.85      0.91       473\n",
      "           1       0.50      0.89      0.64        80\n",
      "\n",
      "    accuracy                           0.85       553\n",
      "   macro avg       0.74      0.87      0.77       553\n",
      "weighted avg       0.91      0.85      0.87       553\n",
      "\n",
      "AUC Score: 0.9372\n"
     ]
    }
   ],
   "source": [
    "pipeline, y_test_p, y_prob_p = train_svm(\n",
    "    X,\n",
    "    y,\n",
    "    numeric_features,\n",
    "    categorical_features,\n",
    "    kernel='poly',\n",
    "    degree=2,\n",
    "    label=\"SVM poly degree=2\"\n",
    ")"
   ]
  },
  {
   "cell_type": "markdown",
   "metadata": {},
   "source": [
    "- For Non-Churned Customers (0):\n",
    "    - Very high precision (0.98): Almost perfect at identifying true non-churners\n",
    "    - Good recall (0.85): Successfully captures 85% of actual non-churners\n",
    "- For Churned Customers (1):\n",
    "    - Moderate precision (0.50): Some false positives when predicting churn\n",
    "    - Excellent recall (0.89): Captures 89% of actual churners\n",
    "\n",
    "The high AUC score of 0.937 and overall accuracy of 0.85 show strong model performance. This polynomial kernel performs slightly better than the linear SVM, particularly in recall for churned customers (0.89 vs 0.80)."
   ]
  },
  {
   "cell_type": "markdown",
   "metadata": {},
   "source": [
    "#### **Base Model with with poly Kernel and degree=3**"
   ]
  },
  {
   "cell_type": "code",
   "execution_count": 159,
   "metadata": {},
   "outputs": [
    {
     "name": "stdout",
     "output_type": "stream",
     "text": [
      "\n",
      "Classification Report (SVM poly degree=3 + SMOTE):\n",
      "              precision    recall  f1-score   support\n",
      "\n",
      "           0       0.98      0.87      0.92       473\n",
      "           1       0.54      0.88      0.67        80\n",
      "\n",
      "    accuracy                           0.87       553\n",
      "   macro avg       0.76      0.87      0.79       553\n",
      "weighted avg       0.91      0.87      0.88       553\n",
      "\n",
      "AUC Score: 0.9596\n"
     ]
    }
   ],
   "source": [
    "pipeline, y_test_p, y_prob_p = train_svm(\n",
    "    X,\n",
    "    y,\n",
    "    numeric_features,\n",
    "    categorical_features,\n",
    "    kernel='poly',\n",
    "    degree=3,\n",
    "    label=\"SVM poly degree=3\"\n",
    ")"
   ]
  },
  {
   "cell_type": "markdown",
   "metadata": {},
   "source": [
    "- For Non-Churned Customers (0):\n",
    "    - High precision (0.98): Almost perfect at identifying true non-churners\n",
    "    - Strong recall (0.87): Successfully captures 87% of actual non-churners\n",
    "- For Churned Customers (1):\n",
    "    - Moderate precision (0.54): Some false positives when predicting churn\n",
    "    - Strong recall (0.88): Captures 88% of actual churners\n",
    "\n",
    "With an overall accuracy of 0.87 and AUC score of 0.960, this model performs significantly better than the linear and degree=2 versions."
   ]
  },
  {
   "cell_type": "code",
   "execution_count": 160,
   "metadata": {},
   "outputs": [
    {
     "data": {
      "image/png": "[encoded data removed]",
      "text/plain": [
       "<Figure size 1000x600 with 1 Axes>"
      ]
     },
     "metadata": {},
     "output_type": "display_data"
    }
   ],
   "source": [
    "# Plot ROC AUC curve\n",
    "plot_roc_auc(y_test_p, y_prob_p, label=\"SVM poly degree 3\")"
   ]
  },
  {
   "cell_type": "markdown",
   "metadata": {},
   "source": [
    "#### **Base Model with with RBF Kernel**"
   ]
  },
  {
   "cell_type": "code",
   "execution_count": 161,
   "metadata": {},
   "outputs": [
    {
     "name": "stdout",
     "output_type": "stream",
     "text": [
      "\n",
      "Classification Report (SVM RBF + SMOTE):\n",
      "              precision    recall  f1-score   support\n",
      "\n",
      "           0       0.99      0.86      0.92       473\n",
      "           1       0.53      0.95      0.68        80\n",
      "\n",
      "    accuracy                           0.87       553\n",
      "   macro avg       0.76      0.90      0.80       553\n",
      "weighted avg       0.92      0.87      0.88       553\n",
      "\n",
      "AUC Score: 0.9621\n"
     ]
    }
   ],
   "source": [
    "# Train SVM model for 'RBF'\n",
    "pipeline_rbf, y_test_rbf, y_prob_rbf = train_svm(\n",
    "    X,\n",
    "    y,\n",
    "    numeric_features,\n",
    "    categorical_features,\n",
    "    kernel='rbf',\n",
    "    label=\"SVM RBF\"\n",
    ")"
   ]
  },
  {
   "cell_type": "markdown",
   "metadata": {},
   "source": [
    "- For Non-Churned Customers (0):\n",
    "    - Nearly perfect precision (0.99): Almost no false positives when predicting non-churners\n",
    "    - Strong recall (0.86): Successfully identifies 86% of actual non-churners\n",
    "- For Churned Customers (1):\n",
    "    - Moderate precision (0.53): Some false positives when predicting churn\n",
    "    - Excellent recall (0.95): Captures 95% of actual churners, highest among all SVM variants\n",
    "\n",
    "With an overall accuracy of 0.87 and the highest AUC score (0.9621) among all SVM variants, the RBF kernel provides the best balance of performance metrics, particularly excelling at identifying potential churners while maintaining high precision for non-churners."
   ]
  },
  {
   "cell_type": "code",
   "execution_count": 162,
   "metadata": {},
   "outputs": [
    {
     "data": {
      "image/png": "[encoded data removed]",
      "text/plain": [
       "<Figure size 1000x600 with 1 Axes>"
      ]
     },
     "metadata": {},
     "output_type": "display_data"
    }
   ],
   "source": [
    "# Plot ROC AUC curve\n",
    "plot_roc_auc(y_test_rbf, y_prob_rbf, label=\"SVM RBF\")"
   ]
  },
  {
   "cell_type": "markdown",
   "metadata": {},
   "source": [
    "#### **Cross Validation**"
   ]
  },
  {
   "cell_type": "code",
   "execution_count": 163,
   "metadata": {},
   "outputs": [],
   "source": [
    "from sklearn.model_selection import StratifiedKFold, cross_validate\n",
    "\n",
    "\n",
    "# Function to evaluate SVM model using Stratified K-Fold CV with SMOTE\n",
    "def evaluate_svm_pipeline_cv(X, y, num_f, cat_f, model_label=\"RBF_SVM\", k=5, kernel=\"rbf\", degree=3):\n",
    "    #1. Preprocessing steps: scale numeric and one-hot encode categorical\n",
    "    preprocessor = ColumnTransformer([\n",
    "        (\"num\", StandardScaler(), num_f),\n",
    "        (\"cat\", OneHotEncoder(drop=\"first\", sparse_output=False, handle_unknown=\"ignore\"), cat_f)\n",
    "    ])\n",
    "\n",
    "    # 2. Define pipeline: Preprocessing → SMOTE → SVM classifier\n",
    "    pipeline = ImbPipeline([\n",
    "        (\"preprocessor\", preprocessor),\n",
    "        (\"smote\", SMOTE(random_state=42)),\n",
    "        (\"classifier\", SVC(kernel=kernel, degree=degree, probability=True, random_state=42))\n",
    "    ])\n",
    "\n",
    "    # 3. Define Stratified K-Fold to preserve churn ratio in each fold\n",
    "    skf = StratifiedKFold(n_splits=k, shuffle=True, random_state=42)\n",
    "\n",
    "    # 4. Evaluate the pipeline using cross-validation on AUC, Recall, F1\n",
    "    scores = cross_validate(\n",
    "        pipeline,\n",
    "        X,\n",
    "        y,\n",
    "        cv=skf,\n",
    "        scoring=[\"roc_auc\", \"recall\", \"f1\"],\n",
    "        return_train_score=False\n",
    "    )\n",
    "\n",
    "    # 5. Print metrics for each fold\n",
    "    for i in range(k):\n",
    "        print(f\"\\n Fold {i+1} | AUC: {scores['test_roc_auc'][i]:.4f} | Recall: {scores['test_recall'][i]:.4f} | F1: {scores['test_f1'][i]:.4f}\")\n",
    "\n",
    "    # 6. Print average performance\n",
    "    print(f\"\\n {k}-Fold Cross-Validation Results ({model_label}):\")\n",
    "    print(f\"Average AUC:    {np.mean(scores['test_roc_auc']):.4f}\")\n",
    "    print(f\"Average Recall: {np.mean(scores['test_recall']):.4f}\")\n",
    "    print(f\"Average F1:     {np.mean(scores['test_f1']):.4f}\")\n",
    "    return pipeline"
   ]
  },
  {
   "cell_type": "code",
   "execution_count": 164,
   "metadata": {},
   "outputs": [
    {
     "name": "stdout",
     "output_type": "stream",
     "text": [
      "\n",
      " Fold 1 | AUC: 0.9691 | Recall: 0.9750 | F1: 0.6812\n",
      "\n",
      " Fold 2 | AUC: 0.9614 | Recall: 0.9625 | F1: 0.6937\n",
      "\n",
      " Fold 3 | AUC: 0.9561 | Recall: 0.9625 | F1: 0.6581\n",
      "\n",
      " Fold 4 | AUC: 0.9708 | Recall: 0.9630 | F1: 0.7059\n",
      "\n",
      " Fold 5 | AUC: 0.9710 | Recall: 0.9383 | F1: 0.7238\n",
      "\n",
      " 5-Fold Cross-Validation Results (SVM RBF):\n",
      "Average AUC:    0.9657\n",
      "Average Recall: 0.9602\n",
      "Average F1:     0.6925\n"
     ]
    }
   ],
   "source": [
    "pipeline_rbf_cv = evaluate_svm_pipeline_cv(\n",
    "    X,       \n",
    "    y,                   \n",
    "    num_f=numeric_features,           \n",
    "    cat_f=categorical_features,       \n",
    "    model_label=\"SVM RBF\",        \n",
    "    k=5,                              \n",
    "    kernel=\"rbf\",                     # Kernel type: 'rbf', 'linear', or 'poly'\n",
    "    degree=3                          # Degree for poly kernel (only used if kernel='poly')\n",
    ")"
   ]
  },
  {
   "cell_type": "markdown",
   "metadata": {},
   "source": [
    "The 5-fold cross-validation results for SVM with RBF kernel show excellent and consistent performance:\n",
    "\n",
    "- AUC Scores:\n",
    "    - Very high average of 0.966\n",
    "    - Consistent across folds (0.956-0.971)\n",
    "    - Shows robust model discrimination ability\n",
    "- Recall Scores:\n",
    "    - Exceptional average of 0.960\n",
    "    - Strong consistency (0.938-0.975)\n",
    "    - Indicates reliable detection of churners\n",
    "- F1 Scores:\n",
    "    - Moderate average of 0.693\n",
    "    - Reasonable range (0.658-0.724)\n",
    "    - Reflects balance between precision and recall"
   ]
  },
  {
   "cell_type": "code",
   "execution_count": 165,
   "metadata": {},
   "outputs": [
    {
     "name": "stdout",
     "output_type": "stream",
     "text": [
      "\n",
      " Fold 1 | AUC: 0.9608 | Recall: 0.8750 | F1: 0.6667\n",
      "\n",
      " Fold 2 | AUC: 0.9596 | Recall: 0.8875 | F1: 0.6794\n",
      "\n",
      " Fold 3 | AUC: 0.9506 | Recall: 0.8875 | F1: 0.6368\n",
      "\n",
      " Fold 4 | AUC: 0.9767 | Recall: 0.9383 | F1: 0.7037\n",
      "\n",
      " Fold 5 | AUC: 0.9740 | Recall: 0.9259 | F1: 0.7212\n",
      "\n",
      " 5-Fold Cross-Validation Results (SVM Poly):\n",
      "Average AUC:    0.9643\n",
      "Average Recall: 0.9028\n",
      "Average F1:     0.6815\n"
     ]
    }
   ],
   "source": [
    "pipeline_poly_cv = evaluate_svm_pipeline_cv(\n",
    "    X,       \n",
    "    y,                   \n",
    "    num_f=numeric_features,           \n",
    "    cat_f=categorical_features,       \n",
    "    model_label=\"SVM Poly\",        \n",
    "    k=5,                              \n",
    "    kernel=\"poly\",                    # Kernel type: 'rbf', 'linear', or 'poly'\n",
    "    degree=3                          # Degree for poly kernel (only used if kernel='poly')\n",
    ")"
   ]
  },
  {
   "cell_type": "markdown",
   "metadata": {},
   "source": [
    "The 5-fold cross-validation results for SVM with polynomial kernel show strong and consistent performance:\n",
    "\n",
    "- AUC Scores:\n",
    "    - High average of 0.964\n",
    "    - Strong consistency (0.951-0.977)\n",
    "    - Shows excellent model discrimination ability\n",
    "- Recall Scores:\n",
    "    - Strong average of 0.903\n",
    "    - Good consistency (0.875-0.938)\n",
    "    - Demonstrates reliable detection of churners\n",
    "- F1 Scores:\n",
    "    - Moderate average of 0.682\n",
    "    - Reasonable range (0.637-0.721)\n",
    "    - Shows balanced precision and recall"
   ]
  },
  {
   "cell_type": "markdown",
   "metadata": {},
   "source": [
    "#### **Comparing the 5-fold cross-validation results between RBF and Polynomial kernels**"
   ]
  },
  {
   "cell_type": "markdown",
   "metadata": {},
   "source": [
    "- **RBF Kernel**:\n",
    "    - AUC: 0.966 (range: 0.956-0.971)\n",
    "    - Recall: 0.960 (range: 0.938-0.975)\n",
    "    - F1: 0.693 (range: 0.658-0.724)\n",
    "- **Polynomial Kernel**:\n",
    "    - AUC: 0.964 (range: 0.951-0.977)\n",
    "    - Recall: 0.903 (range: 0.875-0.938)\n",
    "    - F1: 0.682 (range: 0.637-0.721)\n",
    "\n",
    "RBF kernel shows superior performance, particularly in recall (0.960 vs 0.903), meaning it's better at identifying potential churners. While both kernels have similar AUC scores, RBF's higher and more consistent recall makes it the better choice for churn prediction."
   ]
  },
  {
   "cell_type": "markdown",
   "metadata": {},
   "source": [
    "#### **Persist the model**"
   ]
  },
  {
   "cell_type": "code",
   "execution_count": 166,
   "metadata": {},
   "outputs": [
    {
     "name": "stdout",
     "output_type": "stream",
     "text": [
      "(2765, 11)\n"
     ]
    },
    {
     "data": {
      "text/html": [
       "<div>\n",
       "<style scoped>\n",
       "    .dataframe tbody tr th:only-of-type {\n",
       "        vertical-align: middle;\n",
       "    }\n",
       "\n",
       "    .dataframe tbody tr th {\n",
       "        vertical-align: top;\n",
       "    }\n",
       "\n",
       "    .dataframe thead th {\n",
       "        text-align: right;\n",
       "    }\n",
       "</style>\n",
       "<table border=\"1\" class=\"dataframe\">\n",
       "  <thead>\n",
       "    <tr style=\"text-align: right;\">\n",
       "      <th></th>\n",
       "      <th>call_failure</th>\n",
       "      <th>complains</th>\n",
       "      <th>subscription_length</th>\n",
       "      <th>charge_amount</th>\n",
       "      <th>seconds_of_use</th>\n",
       "      <th>frequency_of_SMS</th>\n",
       "      <th>distinct_called_numbers</th>\n",
       "      <th>age_group</th>\n",
       "      <th>tariff_plan</th>\n",
       "      <th>status</th>\n",
       "      <th>customer_value</th>\n",
       "    </tr>\n",
       "  </thead>\n",
       "  <tbody>\n",
       "    <tr>\n",
       "      <th>0</th>\n",
       "      <td>8</td>\n",
       "      <td>0</td>\n",
       "      <td>38</td>\n",
       "      <td>0</td>\n",
       "      <td>4370</td>\n",
       "      <td>5</td>\n",
       "      <td>17</td>\n",
       "      <td>3</td>\n",
       "      <td>1</td>\n",
       "      <td>1</td>\n",
       "      <td>197.640</td>\n",
       "    </tr>\n",
       "    <tr>\n",
       "      <th>1</th>\n",
       "      <td>0</td>\n",
       "      <td>0</td>\n",
       "      <td>39</td>\n",
       "      <td>0</td>\n",
       "      <td>318</td>\n",
       "      <td>7</td>\n",
       "      <td>4</td>\n",
       "      <td>2</td>\n",
       "      <td>1</td>\n",
       "      <td>2</td>\n",
       "      <td>46.035</td>\n",
       "    </tr>\n",
       "    <tr>\n",
       "      <th>2</th>\n",
       "      <td>10</td>\n",
       "      <td>0</td>\n",
       "      <td>37</td>\n",
       "      <td>0</td>\n",
       "      <td>2453</td>\n",
       "      <td>359</td>\n",
       "      <td>24</td>\n",
       "      <td>3</td>\n",
       "      <td>1</td>\n",
       "      <td>1</td>\n",
       "      <td>1536.520</td>\n",
       "    </tr>\n",
       "    <tr>\n",
       "      <th>3</th>\n",
       "      <td>10</td>\n",
       "      <td>0</td>\n",
       "      <td>38</td>\n",
       "      <td>0</td>\n",
       "      <td>4198</td>\n",
       "      <td>1</td>\n",
       "      <td>35</td>\n",
       "      <td>1</td>\n",
       "      <td>1</td>\n",
       "      <td>1</td>\n",
       "      <td>240.020</td>\n",
       "    </tr>\n",
       "    <tr>\n",
       "      <th>4</th>\n",
       "      <td>3</td>\n",
       "      <td>0</td>\n",
       "      <td>38</td>\n",
       "      <td>0</td>\n",
       "      <td>2393</td>\n",
       "      <td>2</td>\n",
       "      <td>33</td>\n",
       "      <td>1</td>\n",
       "      <td>1</td>\n",
       "      <td>1</td>\n",
       "      <td>145.805</td>\n",
       "    </tr>\n",
       "  </tbody>\n",
       "</table>\n",
       "</div>"
      ],
      "text/plain": [
       "   call_failure  complains  subscription_length  charge_amount  \\\n",
       "0             8          0                   38              0   \n",
       "1             0          0                   39              0   \n",
       "2            10          0                   37              0   \n",
       "3            10          0                   38              0   \n",
       "4             3          0                   38              0   \n",
       "\n",
       "   seconds_of_use  frequency_of_SMS  distinct_called_numbers  age_group  \\\n",
       "0            4370                 5                       17          3   \n",
       "1             318                 7                        4          2   \n",
       "2            2453               359                       24          3   \n",
       "3            4198                 1                       35          1   \n",
       "4            2393                 2                       33          1   \n",
       "\n",
       "   tariff_plan  status  customer_value  \n",
       "0            1       1         197.640  \n",
       "1            1       2          46.035  \n",
       "2            1       1        1536.520  \n",
       "3            1       1         240.020  \n",
       "4            1       1         145.805  "
      ]
     },
     "execution_count": 166,
     "metadata": {},
     "output_type": "execute_result"
    }
   ],
   "source": [
    "print(X.shape)\n",
    "X.head()"
   ]
  },
  {
   "cell_type": "code",
   "execution_count": 167,
   "metadata": {},
   "outputs": [
    {
     "data": {
      "text/plain": [
       "0    0\n",
       "1    0\n",
       "2    0\n",
       "3    0\n",
       "4    0\n",
       "Name: churn, dtype: int64"
      ]
     },
     "execution_count": 167,
     "metadata": {},
     "output_type": "execute_result"
    }
   ],
   "source": [
    "y.head()"
   ]
  },
  {
   "cell_type": "code",
   "execution_count": 168,
   "metadata": {},
   "outputs": [],
   "source": [
    "final_model = pipeline_rbf_cv.fit(X, y)"
   ]
  },
  {
   "cell_type": "code",
   "execution_count": 169,
   "metadata": {},
   "outputs": [
    {
     "data": {
      "text/plain": [
       "['../resources/models/svm_classifier_pipeline.pkl']"
      ]
     },
     "execution_count": 169,
     "metadata": {},
     "output_type": "execute_result"
    }
   ],
   "source": [
    "joblib.dump(final_model, \"../resources/models/svm_classifier_pipeline.pkl\")"
   ]
  }
 ],
 "metadata": {
  "kernelspec": {
   "display_name": "venv",
   "language": "python",
   "name": "python3"
  },
  "language_info": {
   "codemirror_mode": {
    "name": "ipython",
    "version": 3
   },
   "file_extension": ".py",
   "mimetype": "text/x-python",
   "name": "python",
   "nbconvert_exporter": "python",
   "pygments_lexer": "ipython3",
   "version": "3.12.2"
  }
 },
 "nbformat": 4,
 "nbformat_minor": 2
}
